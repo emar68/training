{
  "nbformat": 4,
  "nbformat_minor": 0,
  "metadata": {
    "colab": {
      "name": "intro-statements-python.ipynb",
      "provenance": [],
      "authorship_tag": "ABX9TyMC/k0IWNehwY1DX1TOhOzl",
      "include_colab_link": true
    },
    "kernelspec": {
      "name": "python3",
      "display_name": "Python 3"
    },
    "language_info": {
      "name": "python"
    }
  },
  "cells": [
    {
      "cell_type": "markdown",
      "metadata": {
        "id": "view-in-github",
        "colab_type": "text"
      },
      "source": [
        "<a href=\"https://colab.research.google.com/github/emar68/training/blob/main/intro_statements_python.ipynb\" target=\"_parent\"><img src=\"https://colab.research.google.com/assets/colab-badge.svg\" alt=\"Open In Colab\"/></a>"
      ]
    },
    {
      "cell_type": "code",
      "execution_count": null,
      "metadata": {
        "id": "tY97dYiz8wAT"
      },
      "outputs": [],
      "source": [
        ""
      ]
    },
    {
      "cell_type": "markdown",
      "source": [
        "##Statements\n"
      ],
      "metadata": {
        "id": "h_HGY81D8ynH"
      }
    },
    {
      "cell_type": "markdown",
      "source": [
        "###Hello World"
      ],
      "metadata": {
        "id": "W0oOs-y-83_Z"
      }
    },
    {
      "cell_type": "code",
      "source": [
        "print?"
      ],
      "metadata": {
        "id": "bp_DUP009cFT"
      },
      "execution_count": 1,
      "outputs": []
    },
    {
      "cell_type": "code",
      "source": [
        "x = 1\n",
        "y = 2\n",
        "result = x+y\n",
        "print(f\"Results: {result}\")"
      ],
      "metadata": {
        "colab": {
          "base_uri": "https://localhost:8080/"
        },
        "id": "zaFHpQRm9fUG",
        "outputId": "40e486c4-e571-4290-a761-90223c9ca58c"
      },
      "execution_count": 2,
      "outputs": [
        {
          "output_type": "stream",
          "name": "stdout",
          "text": [
            "Results: 3\n"
          ]
        }
      ]
    },
    {
      "cell_type": "code",
      "source": [
        ""
      ],
      "metadata": {
        "id": "_rboxr5g9j6G"
      },
      "execution_count": null,
      "outputs": []
    },
    {
      "cell_type": "markdown",
      "source": [
        "### Data Structures\n"
      ],
      "metadata": {
        "id": "Ct6dxUas-b9M"
      }
    },
    {
      "cell_type": "code",
      "source": [
        ""
      ],
      "metadata": {
        "id": "WajA3Puj-gwR"
      },
      "execution_count": null,
      "outputs": []
    },
    {
      "cell_type": "markdown",
      "source": [
        "####Lists"
      ],
      "metadata": {
        "id": "Iz-1Bh8p-kbY"
      }
    },
    {
      "cell_type": "code",
      "source": [
        "my_list = []"
      ],
      "metadata": {
        "id": "v3S3Mo_x-m2g"
      },
      "execution_count": 3,
      "outputs": []
    },
    {
      "cell_type": "code",
      "source": [
        "my_list.append(\"cherry\")"
      ],
      "metadata": {
        "id": "Bta4JbAZ-pzi"
      },
      "execution_count": 4,
      "outputs": []
    },
    {
      "cell_type": "code",
      "source": [
        "print(my_list)"
      ],
      "metadata": {
        "colab": {
          "base_uri": "https://localhost:8080/"
        },
        "id": "7dcn_Whe-1RC",
        "outputId": "98b3951f-a28b-4d4f-8f2f-51b32c435413"
      },
      "execution_count": 5,
      "outputs": [
        {
          "output_type": "stream",
          "name": "stdout",
          "text": [
            "['cherry']\n"
          ]
        }
      ]
    },
    {
      "cell_type": "code",
      "source": [
        "my_list.append(\"apple\")"
      ],
      "metadata": {
        "id": "7G3xIbs2-4q5"
      },
      "execution_count": 6,
      "outputs": []
    },
    {
      "cell_type": "code",
      "source": [
        "print(my_list)"
      ],
      "metadata": {
        "colab": {
          "base_uri": "https://localhost:8080/"
        },
        "id": "J_2-W9pw-8z2",
        "outputId": "ea51c9ad-979b-4337-a396-0f4dbe31f5e2"
      },
      "execution_count": 7,
      "outputs": [
        {
          "output_type": "stream",
          "name": "stdout",
          "text": [
            "['cherry', 'apple']\n"
          ]
        }
      ]
    },
    {
      "cell_type": "code",
      "source": [
        ""
      ],
      "metadata": {
        "id": "4VoVZAJv--3k"
      },
      "execution_count": null,
      "outputs": []
    },
    {
      "cell_type": "markdown",
      "source": [
        "####Looping"
      ],
      "metadata": {
        "id": "yDdO7ZLr_AgZ"
      }
    },
    {
      "cell_type": "code",
      "source": [
        "for fruit in my_list:\n",
        "  print(f\" eat the {fruit}\")"
      ],
      "metadata": {
        "colab": {
          "base_uri": "https://localhost:8080/"
        },
        "id": "PysXCU_O_DSo",
        "outputId": "2e33cd1c-5f86-43d1-8d6d-afb207a60f3c"
      },
      "execution_count": 8,
      "outputs": [
        {
          "output_type": "stream",
          "name": "stdout",
          "text": [
            " eat the cherry\n",
            " eat the apple\n"
          ]
        }
      ]
    },
    {
      "cell_type": "code",
      "source": [
        ""
      ],
      "metadata": {
        "id": "zTH3jpbg_SFF"
      },
      "execution_count": null,
      "outputs": []
    },
    {
      "cell_type": "markdown",
      "source": [
        "##### Push to list"
      ],
      "metadata": {
        "id": "ultcf0wF_bQP"
      }
    },
    {
      "cell_type": "code",
      "source": [
        "container = []"
      ],
      "metadata": {
        "id": "eXoQNnVH_drh"
      },
      "execution_count": 9,
      "outputs": []
    },
    {
      "cell_type": "code",
      "source": [
        "for _ in range(5):\n",
        "  container.append(\"item\")\n"
      ],
      "metadata": {
        "id": "CwH8gj99_fp_"
      },
      "execution_count": 10,
      "outputs": []
    },
    {
      "cell_type": "code",
      "source": [
        "print(container)"
      ],
      "metadata": {
        "colab": {
          "base_uri": "https://localhost:8080/"
        },
        "id": "bJAvNufr_vFE",
        "outputId": "ad0b4e3d-340a-4008-be85-09c6e7a73c51"
      },
      "execution_count": 11,
      "outputs": [
        {
          "output_type": "stream",
          "name": "stdout",
          "text": [
            "['item', 'item', 'item', 'item', 'item']\n"
          ]
        }
      ]
    },
    {
      "cell_type": "code",
      "source": [
        ""
      ],
      "metadata": {
        "id": "PsYyijWL_0x0"
      },
      "execution_count": null,
      "outputs": []
    },
    {
      "cell_type": "markdown",
      "source": [
        "#### Random push to container"
      ],
      "metadata": {
        "id": "0p2_ywau_9-9"
      }
    },
    {
      "cell_type": "code",
      "source": [
        "from random import choices"
      ],
      "metadata": {
        "id": "axR5mM2OABbP"
      },
      "execution_count": 12,
      "outputs": []
    },
    {
      "cell_type": "code",
      "source": [
        "fruits = [\"apple\", \"cherry\", \"peach\", \"berry\"]"
      ],
      "metadata": {
        "id": "KWqjDxNSAFY9"
      },
      "execution_count": 13,
      "outputs": []
    },
    {
      "cell_type": "code",
      "source": [
        "fruit_salad = []\n",
        "for _ in range(3):\n",
        "  fruit_salad.append(choices(fruits))\n",
        "print(\"fruit salad: {fruit_salad}\")\n",
        "# fix"
      ],
      "metadata": {
        "colab": {
          "base_uri": "https://localhost:8080/"
        },
        "id": "1Ihz0MPzAOmW",
        "outputId": "6622bad1-46f8-42f5-b5d7-8726798228ff"
      },
      "execution_count": 18,
      "outputs": [
        {
          "output_type": "stream",
          "name": "stdout",
          "text": [
            "fruit salad: {fruit_salad}\n"
          ]
        }
      ]
    },
    {
      "cell_type": "code",
      "source": [
        ""
      ],
      "metadata": {
        "colab": {
          "base_uri": "https://localhost:8080/"
        },
        "id": "bg91g9zSAb7L",
        "outputId": "fe198c4b-8268-4182-f55e-a9979fcd6036"
      },
      "execution_count": 17,
      "outputs": [
        {
          "output_type": "stream",
          "name": "stdout",
          "text": [
            "fruit salad: {fruit_salad}\n"
          ]
        }
      ]
    },
    {
      "cell_type": "markdown",
      "source": [
        "#### Dictionaries"
      ],
      "metadata": {
        "id": "dcsOecdVBAWD"
      }
    },
    {
      "cell_type": "code",
      "source": [
        "meals = {\"dinner\": \"steak\", \"lunch\": \"salad\", \"breakfast\":\"coffee\"}"
      ],
      "metadata": {
        "id": "futyHucCAmC1"
      },
      "execution_count": 19,
      "outputs": []
    },
    {
      "cell_type": "code",
      "source": [
        "meals.values()"
      ],
      "metadata": {
        "colab": {
          "base_uri": "https://localhost:8080/"
        },
        "id": "FIRrDAWEBVfm",
        "outputId": "4be3ea38-efd3-4996-c954-edaf1b3046f5"
      },
      "execution_count": 20,
      "outputs": [
        {
          "output_type": "execute_result",
          "data": {
            "text/plain": [
              "dict_values(['steak', 'salad', 'coffee'])"
            ]
          },
          "metadata": {},
          "execution_count": 20
        }
      ]
    },
    {
      "cell_type": "code",
      "source": [
        "meals.keys()"
      ],
      "metadata": {
        "colab": {
          "base_uri": "https://localhost:8080/"
        },
        "id": "3z38GQS9BgVS",
        "outputId": "684ac6b7-9b1f-4154-f583-c66458ad2849"
      },
      "execution_count": 22,
      "outputs": [
        {
          "output_type": "execute_result",
          "data": {
            "text/plain": [
              "dict_keys(['dinner', 'lunch', 'breakfast'])"
            ]
          },
          "metadata": {},
          "execution_count": 22
        }
      ]
    },
    {
      "cell_type": "code",
      "source": [
        "for meal_name, food in meals.items():\n",
        "  print(f\"for {meal_name} eat the {food}\")"
      ],
      "metadata": {
        "colab": {
          "base_uri": "https://localhost:8080/"
        },
        "id": "uNVZkfuhBlJD",
        "outputId": "80ce6ce6-6655-4873-c313-2a34d4e1234e"
      },
      "execution_count": 23,
      "outputs": [
        {
          "output_type": "stream",
          "name": "stdout",
          "text": [
            "for dinner eat the steak\n",
            "for lunch eat the salad\n",
            "for breakfast eat the coffee\n"
          ]
        }
      ]
    },
    {
      "cell_type": "code",
      "source": [
        ""
      ],
      "metadata": {
        "id": "B9No1R6hB_X2"
      },
      "execution_count": null,
      "outputs": []
    }
  ]
}